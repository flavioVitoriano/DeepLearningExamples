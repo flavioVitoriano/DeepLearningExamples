{
 "cells": [
  {
   "cell_type": "markdown",
   "metadata": {},
   "source": [
    "## Exemplo de perceptron\n",
    "\n",
    "exemplo bem simples do funcionamento de um perceptron com a função degrau\n",
    "\n",
    "__Codigo baseado no algoritmo de Thomas Countz__\n",
    "Fonte: https://gist.githubusercontent.com/Thomascountz/77670d1fd621364bc41a7094563a7b9c/raw/7f2d52dc8b879a2454467bb7acdee31c4c3e3d41/perceptron.py\n",
    "\n",
    "Exemplo de um AND e OR com um perceptron simples\n",
    "\n",
    "OBS: Nesse exemplo, o valor 1 (um) será tido como verdadeiro enquanto o valor 0 (zero) será tido como falso\n"
   ]
  },
  {
   "cell_type": "code",
   "execution_count": 1,
   "metadata": {},
   "outputs": [],
   "source": [
    "# Perceptron de Thomas Countz\n",
    "\n",
    "import numpy as np\n",
    "\n",
    "class Perceptron(object):\n",
    "\n",
    "    def __init__(self, no_of_inputs, threshold=100, learning_rate=0.01):\n",
    "        self.threshold = threshold\n",
    "        self.learning_rate = learning_rate\n",
    "        self.weights = np.zeros(no_of_inputs + 1)\n",
    "           \n",
    "    def predict(self, inputs):\n",
    "        summation = np.dot(inputs, self.weights[1:]) + self.weights[0]\n",
    "        if summation > 0:\n",
    "          activation = 1\n",
    "        else:\n",
    "          activation = 0            \n",
    "        return activation\n",
    "\n",
    "    def train(self, training_inputs, labels):\n",
    "        for _ in range(self.threshold):\n",
    "            for inputs, label in zip(training_inputs, labels):\n",
    "                prediction = self.predict(inputs)\n",
    "                self.weights[1:] += self.learning_rate * (label - prediction) * inputs\n",
    "                self.weights[0] += self.learning_rate * (label - prediction)"
   ]
  },
  {
   "cell_type": "markdown",
   "metadata": {},
   "source": [
    "## Criação do dataset de treinamento\n"
   ]
  },
  {
   "cell_type": "code",
   "execution_count": 2,
   "metadata": {},
   "outputs": [],
   "source": [
    "samples = [\n",
    "    np.array([0,0]),\n",
    "    np.array([1,0]),\n",
    "    np.array([0,1]),\n",
    "    np.array([1,1]),\n",
    "]\n",
    "\n",
    "and_labels = np.array([0,0,0,1])\n",
    "or_labels = np.array([0,1,1,1])"
   ]
  },
  {
   "cell_type": "markdown",
   "metadata": {},
   "source": [
    "## Criação dos perceptrons"
   ]
  },
  {
   "cell_type": "code",
   "execution_count": 3,
   "metadata": {},
   "outputs": [],
   "source": [
    "# perceptron com um vetor de duas entradas\n",
    "and_perceptron = Perceptron(2)\n",
    "or_perceptron = Perceptron(2)"
   ]
  },
  {
   "cell_type": "markdown",
   "metadata": {},
   "source": [
    "## Treinamento"
   ]
  },
  {
   "cell_type": "code",
   "execution_count": 4,
   "metadata": {},
   "outputs": [],
   "source": [
    "and_perceptron.train(samples,and_labels)\n",
    "or_perceptron.train(samples,or_labels)"
   ]
  },
  {
   "cell_type": "markdown",
   "metadata": {},
   "source": [
    "## Ver a predição"
   ]
  },
  {
   "cell_type": "code",
   "execution_count": 6,
   "metadata": {},
   "outputs": [
    {
     "name": "stdout",
     "output_type": "stream",
     "text": [
      "AND neural\n",
      "1 e 1\n",
      "1 e 0\n",
      "0 e 1\n",
      "0 e 0\n",
      "\n",
      "1\n",
      "0\n",
      "0\n",
      "0\n",
      "\n",
      "OR neural\n",
      "1 e 1\n",
      "1 e 0\n",
      "0 e 1\n",
      "0 e 0\n",
      "\n",
      "1\n",
      "1\n",
      "1\n",
      "0\n"
     ]
    }
   ],
   "source": [
    "#AND\n",
    "print(\"AND neural\\n1 e 1\\n1 e 0\\n0 e 1\\n0 e 0\\n\")\n",
    "print(and_perceptron.predict(np.array([1,1])))\n",
    "print(and_perceptron.predict(np.array([1,0])))\n",
    "print(and_perceptron.predict(np.array([0,1])))\n",
    "print(and_perceptron.predict(np.array([0,0])))\n",
    "\n",
    "#OR\n",
    "print(\"\\nOR neural\\n1 e 1\\n1 e 0\\n0 e 1\\n0 e 0\\n\")\n",
    "print(or_perceptron.predict(np.array([1,1])))\n",
    "print(or_perceptron.predict(np.array([1,0])))\n",
    "print(or_perceptron.predict(np.array([0,1])))\n",
    "print(or_perceptron.predict(np.array([0,0])))"
   ]
  },
  {
   "cell_type": "code",
   "execution_count": null,
   "metadata": {},
   "outputs": [],
   "source": []
  }
 ],
 "metadata": {
  "kernelspec": {
   "display_name": "Python 3",
   "language": "python",
   "name": "python3"
  },
  "language_info": {
   "codemirror_mode": {
    "name": "ipython",
    "version": 3
   },
   "file_extension": ".py",
   "mimetype": "text/x-python",
   "name": "python",
   "nbconvert_exporter": "python",
   "pygments_lexer": "ipython3",
   "version": "3.7.2"
  }
 },
 "nbformat": 4,
 "nbformat_minor": 2
}
